{
 "cells": [
  {
   "cell_type": "code",
   "execution_count": 149,
   "metadata": {},
   "outputs": [],
   "source": [
    "import numpy as np\n",
    "import math\n",
    "x=np.array([[2,3],\n",
    "          [5,4],\n",
    "          [9,6],\n",
    "          [4,7],\n",
    "          [8,1],\n",
    "          [7,2]])\n",
    "class node:\n",
    "    def __init__(self, data, direction):\n",
    "        self.data=data\n",
    "        self.direction=direction\n",
    "        self.left=None\n",
    "        self.right=None\n",
    "        \n",
    "    def details(self):\n",
    "        print(self.data, self.direction)\n",
    "        if self.left!=None:\n",
    "            self.left.details()\n",
    "        if self.right!=None:\n",
    "            self.right.details()"
   ]
  },
  {
   "cell_type": "code",
   "execution_count": 150,
   "metadata": {},
   "outputs": [],
   "source": [
    "def kdTree(x, start, end, direction):\n",
    "    #print(x, start, end)\n",
    "    if start>=end or start>=x.shape[0]:\n",
    "        return None\n",
    "    if start==end-1:\n",
    "        ret=node(x[start, :], direction)\n",
    "        return ret\n",
    "    x[start:end, :]=x[x[start:end, direction].argsort()+start]\n",
    "    kdim=x.shape[1]\n",
    "    mid=math.floor((start+end-1)/2)\n",
    "    ret=node(x[mid], direction)\n",
    "    direction=(direction+1)%kdim\n",
    "    left=kdTree(x, start, mid, direction)\n",
    "    right=kdTree(x, mid+1, end, direction)\n",
    "    ret.left=left\n",
    "    ret.right=right\n",
    "    return ret"
   ]
  },
  {
   "cell_type": "code",
   "execution_count": 151,
   "metadata": {},
   "outputs": [
    {
     "name": "stdout",
     "output_type": "stream",
     "text": [
      "[5 4] 0\n",
      "[2 3] 1\n",
      "[4 7] 0\n",
      "[7 2] 1\n",
      "[8 1] 0\n",
      "[9 6] 0\n"
     ]
    }
   ],
   "source": [
    "if __name__==\"__main__\":\n",
    "    ret=kdTree(x, 0, x.shape[0], 0)\n",
    "    ret.details()"
   ]
  }
 ],
 "metadata": {
  "kernelspec": {
   "display_name": "Python 3",
   "language": "python",
   "name": "python3"
  },
  "language_info": {
   "codemirror_mode": {
    "name": "ipython",
    "version": 3
   },
   "file_extension": ".py",
   "mimetype": "text/x-python",
   "name": "python",
   "nbconvert_exporter": "python",
   "pygments_lexer": "ipython3",
   "version": "3.6.4"
  }
 },
 "nbformat": 4,
 "nbformat_minor": 2
}
