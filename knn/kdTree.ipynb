{
 "cells": [
  {
   "cell_type": "code",
   "execution_count": 1,
   "metadata": {},
   "outputs": [],
   "source": [
    "import numpy as np\n",
    "import math\n",
    "\n",
    "class node:\n",
    "    def __init__(self, data, direction):\n",
    "        self.data=data\n",
    "        self.direction=direction\n",
    "        self.left=None\n",
    "        self.right=None\n",
    "        \n",
    "    def details(self):\n",
    "        print(self.data, self.direction)\n",
    "        if self.left!=None:\n",
    "            self.left.details()\n",
    "        if self.right!=None:\n",
    "            self.right.details()"
   ]
  },
  {
   "cell_type": "code",
   "execution_count": 4,
   "metadata": {},
   "outputs": [],
   "source": [
    "def kdTree(train_x, start, end, direction):\n",
    "    #print(train_x, start, end)\n",
    "    if start>=end or start>=train_x.shape[0]:\n",
    "        return None\n",
    "    if start==end-1:\n",
    "        ret=node(train_x[start, :], direction)\n",
    "        return ret\n",
    "    train_x[start:end, :]=train_x[train_x[start:end, direction].argsort()+start]\n",
    "    kdim=train_x.shape[1]\n",
    "    mid=math.floor((start+end-1)/2)\n",
    "    ret=node(train_x[mid], direction)\n",
    "    direction=(direction+1)%kdim\n",
    "    left=kdTree(train_x, start, mid, direction)\n",
    "    right=kdTree(train_x, mid+1, end, direction)\n",
    "    ret.left=left\n",
    "    ret.right=right\n",
    "    return ret"
   ]
  },
  {
   "cell_type": "code",
   "execution_count": 5,
   "metadata": {},
   "outputs": [
    {
     "name": "stdout",
     "output_type": "stream",
     "text": [
      "[5 4] 0\n",
      "[2 3] 1\n",
      "[4 7] 0\n",
      "[7 2] 1\n",
      "[8 1] 0\n",
      "[9 6] 0\n"
     ]
    }
   ],
   "source": [
    "if __name__==\"__main__\":\n",
    "    train_x=np.array([[2,3],\n",
    "                    [5,4],\n",
    "                    [9,6],\n",
    "                    [4,7],\n",
    "                    [8,1],\n",
    "                    [7,2]])\n",
    "    ret=kdTree(train_x, 0, train_x.shape[0], 0)\n",
    "    ret.details()"
   ]
  },
  {
   "cell_type": "code",
   "execution_count": null,
   "metadata": {},
   "outputs": [],
   "source": []
  }
 ],
 "metadata": {
  "kernelspec": {
   "display_name": "Python 3",
   "language": "python",
   "name": "python3"
  },
  "language_info": {
   "codemirror_mode": {
    "name": "ipython",
    "version": 3
   },
   "file_extension": ".py",
   "mimetype": "text/x-python",
   "name": "python",
   "nbconvert_exporter": "python",
   "pygments_lexer": "ipython3",
   "version": "3.6.4"
  }
 },
 "nbformat": 4,
 "nbformat_minor": 2
}
