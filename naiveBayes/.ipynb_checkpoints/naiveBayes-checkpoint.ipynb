{
 "cells": [
  {
   "cell_type": "code",
   "execution_count": 64,
   "metadata": {},
   "outputs": [],
   "source": [
    "import numpy as np\n",
    "import math"
   ]
  },
  {
   "cell_type": "code",
   "execution_count": 65,
   "metadata": {},
   "outputs": [],
   "source": [
    "def naive_bayes(train_x, train_y, test_x):\n",
    "    #compute the priori probability\n",
    "    pY_ck_0=0\n",
    "    pY_ck_1=0\n",
    "    for i in range(0, train_y.shape[0]):\n",
    "        if train_y[i]==-1:\n",
    "            pY_ck_0+=1\n",
    "        else:\n",
    "            pY_ck_1+=1\n",
    "    pY_ck_0/=train_y.shape[0]\n",
    "    pY_ck_1/=train_y.shape[0]\n",
    "    print(pY_ck_0,pY_ck_1)\n",
    "    #compute the conditional probability\n",
    "    pXj_ajl_Y=np.zeros((train_x.shape[1], 3, 2))\n",
    "    for i in range(0, train_x.shape[0]):\n",
    "        for j in range(0, train_x.shape[1]):\n",
    "            pXj_ajl_Y[j, train_x[i][j]-1, math.floor((train_y[i]+1)/2)]+=1\n",
    "    pXj_ajl_Y[:, :, 0]/=pY_ck_0*train_y.shape[0]\n",
    "    pXj_ajl_Y[:, :, 1]/=pY_ck_1*train_y.shape[0]\n",
    "    print(pXj_ajl_Y[:, :, 0])\n",
    "    print(pXj_ajl_Y[:, :, 1])\n",
    "    #compute the posterior probability\n",
    "    poster_p_Y_ck_0=pY_ck_0\n",
    "    poster_p_Y_ck_1=pY_ck_1\n",
    "    for j in range(0, train_x.shape[1]):\n",
    "        poster_p_Y_ck_0*=pXj_ajl_Y[j, test_x[j]-1, 0]\n",
    "        poster_p_Y_ck_1*=pXj_ajl_Y[j, test_x[j]-1, 1]\n",
    "    print(poster_p_Y_ck_0, poster_p_Y_ck_1)\n",
    "    return -1 if poster_p_Y_ck_0>poster_p_Y_ck_1 else 1"
   ]
  },
  {
   "cell_type": "code",
   "execution_count": 68,
   "metadata": {},
   "outputs": [],
   "source": [
    "def bayes_estimation(train_x, train_y, test_x, Lambda):\n",
    "    #compute the priori probability\n",
    "    pY_ck_0=Lambda\n",
    "    pY_ck_1=Lambda\n",
    "    for i in range(0, train_y.shape[0]):\n",
    "        if train_y[i]==-1:\n",
    "            pY_ck_0+=1\n",
    "        else:\n",
    "            pY_ck_1+=1\n",
    "    pY_ck_0/=train_y.shape[0]+2*Lambda\n",
    "    pY_ck_1/=train_y.shape[0]+2*Lambda\n",
    "    print(pY_ck_0,pY_ck_1)\n",
    "    #compute the conditional probability\n",
    "    pXj_ajl_Y=np.ones((train_x.shape[1], 3, 2))\n",
    "    pXj_ajl_Y*=Lambda\n",
    "    for i in range(0, train_x.shape[0]):\n",
    "        for j in range(0, train_x.shape[1]):\n",
    "            pXj_ajl_Y[j, train_x[i][j]-1, math.floor((train_y[i]+1)/2)]+=1\n",
    "    pXj_ajl_Y[:, :, 0]/=pY_ck_0*(train_y.shape[0]+2*Lambda)+2*Lambda\n",
    "    pXj_ajl_Y[:, :, 1]/=pY_ck_1*(train_y.shape[0]+2*Lambda)+2*Lambda\n",
    "    print(pXj_ajl_Y[:, :, 0])\n",
    "    print(pXj_ajl_Y[:, :, 1])\n",
    "    #compute the posterior probability\n",
    "    poster_p_Y_ck_0=pY_ck_0\n",
    "    poster_p_Y_ck_1=pY_ck_1\n",
    "    for j in range(0, train_x.shape[1]):\n",
    "        poster_p_Y_ck_0*=pXj_ajl_Y[j, test_x[j]-1, 0]\n",
    "        poster_p_Y_ck_1*=pXj_ajl_Y[j, test_x[j]-1, 1]\n",
    "    print(poster_p_Y_ck_0, poster_p_Y_ck_1)\n",
    "    return -1 if poster_p_Y_ck_0>poster_p_Y_ck_1 else 1"
   ]
  },
  {
   "cell_type": "code",
   "execution_count": 69,
   "metadata": {},
   "outputs": [
    {
     "name": "stdout",
     "output_type": "stream",
     "text": [
      "0.4 0.6\n",
      "[[0.5        0.33333333 0.16666667]\n",
      " [0.5        0.33333333 0.16666667]]\n",
      "[[0.22222222 0.33333333 0.44444444]\n",
      " [0.11111111 0.44444444 0.44444444]]\n",
      "0.06666666666666667 0.02222222222222222\n",
      "-1\n",
      "0.4117647058823529 0.5882352941176471\n",
      "[[0.44444444 0.33333333 0.22222222]\n",
      " [0.44444444 0.33333333 0.22222222]]\n",
      "[[0.25       0.33333333 0.41666667]\n",
      " [0.16666667 0.41666667 0.41666667]]\n",
      "0.06100217864923746 0.0326797385620915\n"
     ]
    }
   ],
   "source": [
    "if __name__==\"__main__\":\n",
    "    train_x=np.array([[1,1],[1,2],[1,2],[1,1],\n",
    "                [1,1],[2,1],[2,2],[2,2],\n",
    "                [2,3],[2,3],[3,3],[3,2],\n",
    "                [3,2],[3,3],[3,3]])\n",
    "    train_y=np.array([-1,-1,1,1,-1,-1,-1,1,\n",
    "                      1,1,1,1,1,1,-1])\n",
    "    test_x=np.array([2,1])\n",
    "    predict_label=naive_bayes(train_x, train_y, test_x)\n",
    "    print(predict_label)\n",
    "    Lambda=1\n",
    "    predict_label=bayes_estimation(train_x, train_y, test_x, Lambda)"
   ]
  }
 ],
 "metadata": {
  "kernelspec": {
   "display_name": "Python 3",
   "language": "python",
   "name": "python3"
  },
  "language_info": {
   "codemirror_mode": {
    "name": "ipython",
    "version": 3
   },
   "file_extension": ".py",
   "mimetype": "text/x-python",
   "name": "python",
   "nbconvert_exporter": "python",
   "pygments_lexer": "ipython3",
   "version": "3.6.4"
  }
 },
 "nbformat": 4,
 "nbformat_minor": 2
}
