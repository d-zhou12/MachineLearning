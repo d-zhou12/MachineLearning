{
 "cells": [
  {
   "cell_type": "code",
   "execution_count": 24,
   "metadata": {},
   "outputs": [
    {
     "name": "stdout",
     "output_type": "stream",
     "text": [
      "0.47058823529411764 0.36363636363636365 0.4 0.6 0.7\n",
      "0.40641711229946526 0.5368421052631578 0.6432432432432433\n",
      "0.4705882352941178 0.3636363636363636 0.40641711229946526 0.5368421052631578 0.6432432432432433\n",
      "0.40641711229946526 0.5368421052631578 0.6432432432432433\n",
      "0.40641711229946526 0.5368421052631578 0.6432432432432433\n"
     ]
    }
   ],
   "source": [
    "import numpy as np\n",
    "\n",
    "def EM(pi, p, q, train_y):\n",
    "    count0=0\n",
    "    for i in range(train_y.shape[0]):\n",
    "        if train_y[i]==0:\n",
    "            count0+=1\n",
    "    count1=train_y.shape[0]-count0;\n",
    "    pi_next=0\n",
    "    p_next=0\n",
    "    q_next=0\n",
    "    while True:\n",
    "        #E step:\n",
    "        miu_next_0=pi*(1-p)/(pi*(1-p)+(1-pi)*(1-q))\n",
    "        miu_next_1=pi*p/(pi*p+(1-pi)*q)\n",
    "        print(miu_next_0,miu_next_1,pi,p,q)\n",
    "        #M step:\n",
    "        pi_next=(miu_next_0*count0+miu_next_1*count1)/train_y.shape[0]\n",
    "        p_next=miu_next_1*count1/(miu_next_0*count0+miu_next_1*count1)\n",
    "        q_next=(1-miu_next_1)*count1/((1-miu_next_0)*count0+(1-miu_next_1)*count1)\n",
    "        print(pi_next,p_next,q_next)\n",
    "        if (pi-pi_next)*(pi-pi_next)+(p-p_next)*(p-p_next)+(q-q_next)*(q-q_next)<10e-6:\n",
    "            break\n",
    "        pi=pi_next\n",
    "        p=p_next\n",
    "        q=q_next\n",
    "        \n",
    "    return pi,p,q\n",
    "        \n",
    "if __name__==\"__main__\":\n",
    "    train_y=np.mat([1,1,0,1,0,0,1,0,1,1])\n",
    "    train_y=train_y.T\n",
    "    pi=0.4\n",
    "    p=0.6\n",
    "    q=0.7\n",
    "    pi,p,q=EM(pi,p,q,train_y)\n",
    "    print(pi,p,q)"
   ]
  },
  {
   "cell_type": "code",
   "execution_count": null,
   "metadata": {},
   "outputs": [],
   "source": []
  }
 ],
 "metadata": {
  "kernelspec": {
   "display_name": "Python 3",
   "language": "python",
   "name": "python3"
  },
  "language_info": {
   "codemirror_mode": {
    "name": "ipython",
    "version": 3
   },
   "file_extension": ".py",
   "mimetype": "text/x-python",
   "name": "python",
   "nbconvert_exporter": "python",
   "pygments_lexer": "ipython3",
   "version": "3.6.4"
  }
 },
 "nbformat": 4,
 "nbformat_minor": 2
}
