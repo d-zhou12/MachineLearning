{
 "cells": [
  {
   "cell_type": "code",
   "execution_count": 77,
   "metadata": {},
   "outputs": [],
   "source": [
    "#eg 2.1-2.2 perceptron learning algorithm\n",
    "import numpy as np\n",
    "\n",
    "x=np.array([[3, 3],\n",
    "            [4, 3],\n",
    "            [1, 1]])\n",
    "y=np.array([1, 1, -1])"
   ]
  },
  {
   "cell_type": "code",
   "execution_count": 78,
   "metadata": {},
   "outputs": [],
   "source": [
    "def original_learning():\n",
    "    w0_1 = 0\n",
    "    w0_2 = 0\n",
    "    b0 = 0\n",
    "    learning_rate = 1\n",
    "    count = 0\n",
    "\n",
    "    while count < x.shape[0]:\n",
    "        for i in range(0, x.shape[0]):\n",
    "            if y[i] * (w0_1 * x[i,0] + w0_2 * x[i,1] + b0)<=0:\n",
    "                w0_1 += learning_rate * y[i] * x[i, 0]\n",
    "                w0_2 += learning_rate * y[i] * x[i, 1]\n",
    "                b0 += learning_rate * y[i]\n",
    "                count = 0\n",
    "                print(w0_1, w0_2, b0)\n",
    "            else:\n",
    "                count += 1\n",
    "\n",
    "    print(\"y=sign(\"+str(w0_1)+\"*x0+\"+str(w0_2)+\"*x1+\"+str(b0)+\")\")\n",
    "    return"
   ]
  },
  {
   "cell_type": "code",
   "execution_count": 79,
   "metadata": {},
   "outputs": [],
   "source": [
    "def dual_learning():\n",
    "    alpha=np.zeros(x.shape[0])\n",
    "    b0 = 0\n",
    "    learning_rate = 1\n",
    "    w0_1 = 0\n",
    "    w0_2 = 0\n",
    "    count = 0\n",
    "    \n",
    "    gram=np.zeros((x.shape[0], x.shape[0]))\n",
    "    for i in range(0, x.shape[0]):\n",
    "        for j in range(0, x.shape[0]):\n",
    "            gram[i, j]=x[i, 0]*x[j, 0]+x[i, 1]*x[j, 1]\n",
    "    print(gram)\n",
    "    \n",
    "    while count < x.shape[0]:\n",
    "        for i in range(0,x.shape[0]):\n",
    "            dual_value = 0\n",
    "            for j in range(0, x.shape[0]):\n",
    "                dual_value += alpha[j] * y[j] * gram[j, i]\n",
    "            dual_value += b0\n",
    "            dual_value *= y[i]\n",
    "            if dual_value <= 0:\n",
    "                alpha[i] += learning_rate\n",
    "                b0 += learning_rate * y[i]\n",
    "                count = 0\n",
    "                print(alpha, b0)\n",
    "            else:\n",
    "                count += 1\n",
    "    \n",
    "    for i in range(0, x.shape[0]):\n",
    "        w0_1 += alpha[i] * y[i] * x[i, 0]\n",
    "        w0_2 += alpha[i] * y[i] * x[i, 1]\n",
    "        #b0 += alpha[i] * y[i]\n",
    "    print(\"y=sign(\"+str(w0_1)+\"*x0+\"+str(w0_2)+\"*x1+\"+str(b0)+\")\")\n",
    "    return"
   ]
  },
  {
   "cell_type": "code",
   "execution_count": 76,
   "metadata": {},
   "outputs": [
    {
     "name": "stdout",
     "output_type": "stream",
     "text": [
      "3 3 1\n",
      "2 2 0\n",
      "1 1 -1\n",
      "0 0 -2\n",
      "3 3 -1\n",
      "2 2 -2\n",
      "1 1 -3\n",
      "y=sign(1*x0+1*x1+-3)\n",
      "[[18. 21.  6.]\n",
      " [21. 25.  7.]\n",
      " [ 6.  7.  2.]]\n",
      "[1. 0. 0.] 1\n",
      "[1. 0. 1.] 0\n",
      "[1. 0. 2.] -1\n",
      "[1. 0. 3.] -2\n",
      "[2. 0. 3.] -1\n",
      "[2. 0. 4.] -2\n",
      "[2. 0. 5.] -3\n",
      "y=sign(1.0*x0+1.0*x1+-3)\n"
     ]
    }
   ],
   "source": [
    "if __name__==\"__main__\":\n",
    "    original_learning()\n",
    "    dual_learning()"
   ]
  }
 ],
 "metadata": {
  "kernelspec": {
   "display_name": "Python 3",
   "language": "python",
   "name": "python3"
  },
  "language_info": {
   "codemirror_mode": {
    "name": "ipython",
    "version": 3
   },
   "file_extension": ".py",
   "mimetype": "text/x-python",
   "name": "python",
   "nbconvert_exporter": "python",
   "pygments_lexer": "ipython3",
   "version": "3.6.4"
  }
 },
 "nbformat": 4,
 "nbformat_minor": 2
}
