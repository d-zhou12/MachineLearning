{
 "cells": [
  {
   "cell_type": "code",
   "execution_count": 12,
   "metadata": {},
   "outputs": [],
   "source": [
    "#eg 2.1-2.2 perceptron learning algorithm\n",
    "import numpy as np\n",
    "def original_learning(train_x,train_y):\n",
    "    w0=np.zeros(train_x.shape[1])\n",
    "    b0=0\n",
    "    learning_rate = 1\n",
    "    count = 0\n",
    "\n",
    "    while count < train_x.shape[0]:\n",
    "        for i in range(0, train_x.shape[0]):\n",
    "            w_mul_x=b0\n",
    "            for j in range(0, train_x.shape[1]):\n",
    "                w_mul_x+=w0[j]*train_x[i,j]\n",
    "            if train_y[i] * w_mul_x<=0:\n",
    "                for j in range(0, train_x.shape[1]):\n",
    "                    w0[j]+=learning_rate * train_y[i] * train_x[i, j]\n",
    "                b0 += learning_rate * train_y[i]\n",
    "                count = 0\n",
    "                print(w0, b0)\n",
    "            else:\n",
    "                count += 1\n",
    "    return w0,b0"
   ]
  },
  {
   "cell_type": "code",
   "execution_count": 15,
   "metadata": {},
   "outputs": [],
   "source": [
    "def dual_learning(train_x,train_y):\n",
    "    alpha=np.zeros(train_x.shape[0])\n",
    "    w0=np.zeros(train_x.shape[1])\n",
    "    b0 = 0\n",
    "    learning_rate = 1\n",
    "    count = 0\n",
    "    \n",
    "    gram=np.zeros((train_x.shape[0], train_x.shape[0]))\n",
    "    for i in range(0, train_x.shape[0]):\n",
    "        for j in range(0, train_x.shape[0]):\n",
    "            gram[i,j]=0\n",
    "            for k in range(0, train_x.shape[1]):\n",
    "                gram[i, j]+=train_x[i, k]*train_x[j, k]\n",
    "    print(gram)\n",
    "    \n",
    "    while count < train_x.shape[0]:\n",
    "        for i in range(0,train_x.shape[0]):\n",
    "            dual_value = 0\n",
    "            for j in range(0, train_x.shape[0]):\n",
    "                dual_value += alpha[j] * train_y[j] * gram[j, i]\n",
    "            dual_value += b0\n",
    "            dual_value *= train_y[i]\n",
    "            if dual_value <= 0:\n",
    "                alpha[i] += learning_rate\n",
    "                b0 += learning_rate * train_y[i]\n",
    "                count = 0\n",
    "                print(alpha, b0)\n",
    "            else:\n",
    "                count += 1\n",
    "    \n",
    "    for i in range(0, train_x.shape[0]):\n",
    "        for j in range(0, train_x.shape[1]):\n",
    "            w0[j] += alpha[i] * train_y[i] * train_x[i, j]\n",
    "            #b0 += alpha[i] * y[i]\n",
    "    return w0,b0"
   ]
  },
  {
   "cell_type": "code",
   "execution_count": 17,
   "metadata": {},
   "outputs": [
    {
     "name": "stdout",
     "output_type": "stream",
     "text": [
      "[3. 3.] 1\n",
      "[2. 2.] 0\n",
      "[1. 1.] -1\n",
      "[0. 0.] -2\n",
      "[3. 3.] -1\n",
      "[2. 2.] -2\n",
      "[1. 1.] -3\n",
      "[[18. 21.  6.]\n",
      " [21. 25.  7.]\n",
      " [ 6.  7.  2.]]\n",
      "[1. 0. 0.] 1\n",
      "[1. 0. 1.] 0\n",
      "[1. 0. 2.] -1\n",
      "[1. 0. 3.] -2\n",
      "[2. 0. 3.] -1\n",
      "[2. 0. 4.] -2\n",
      "[2. 0. 5.] -3\n",
      "[1. 1.] -3\n"
     ]
    }
   ],
   "source": [
    "if __name__==\"__main__\":\n",
    "    train_x=np.array([[3, 3],\n",
    "                    [4, 3],\n",
    "                    [1, 1]])\n",
    "    train_y=np.array([1, 1, -1])\n",
    "    original_learning(train_x,train_y)\n",
    "    w0,b0=dual_learning(train_x,train_y)\n",
    "    print(w0,b0)"
   ]
  }
 ],
 "metadata": {
  "kernelspec": {
   "display_name": "Python 3",
   "language": "python",
   "name": "python3"
  },
  "language_info": {
   "codemirror_mode": {
    "name": "ipython",
    "version": 3
   },
   "file_extension": ".py",
   "mimetype": "text/x-python",
   "name": "python",
   "nbconvert_exporter": "python",
   "pygments_lexer": "ipython3",
   "version": "3.6.4"
  }
 },
 "nbformat": 4,
 "nbformat_minor": 2
}
