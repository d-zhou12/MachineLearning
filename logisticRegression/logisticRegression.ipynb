{
 "cells": [
  {
   "cell_type": "code",
   "execution_count": 4,
   "metadata": {},
   "outputs": [
    {
     "name": "stdout",
     "output_type": "stream",
     "text": [
      "[ 0.2731714   0.19755727 -0.94146084]\n"
     ]
    }
   ],
   "source": [
    "import numpy as np\n",
    "import math\n",
    "\n",
    "def LR(train_x, train_y, learning_rate):\n",
    "    new_train_x=np.zeros((train_x.shape[0],train_x.shape[1]+1))\n",
    "    for i in range(0,train_x.shape[0]):\n",
    "        for j in range(0,train_x.shape[1]):\n",
    "            new_train_x[i][j]=train_x[i][j]\n",
    "        new_train_x[i][-1]=1\n",
    "    w=np.ones(train_x.shape[1]+1)\n",
    "    #loss=compute_loss(new_train_x, train_y, w)\n",
    "    error=np.ones(train_x.shape[1]+1)*10\n",
    "    delta=0.99\n",
    "    while(np.linalg.norm(error,1)>10e-6):\n",
    "        temp=np.copy(w)\n",
    "        for i in range(0, new_train_x.shape[0]):\n",
    "            wx=np.dot(w,new_train_x[i])\n",
    "            if (1/(1+math.exp(wx))<=delta and train_y[i]==0) or \\\n",
    "            (math.exp(wx)/(1+math.exp(wx))<=delta and train_y[i]==1):\n",
    "                count=0\n",
    "                w+=learning_rate*train_y[i]*new_train_x[i]-learning_rate* \\\n",
    "                new_train_x[i]*math.exp(wx)/(1+math.exp(wx))\n",
    "        error=temp-w\n",
    "        loss=compute_loss(new_train_x, train_y, w)\n",
    "        #print(loss)\n",
    "    scale=1/np.linalg.norm(w,2)\n",
    "    return w*scale\n",
    "        \n",
    "def compute_loss(train_x, train_y, w):\n",
    "    logloss=0.0\n",
    "    for i in range(0,train_x.shape[0]):\n",
    "        wx=np.dot(w,train_x[i])\n",
    "        if wx!=0:\n",
    "            logloss-=train_y[i]*wx-math.log(1+math.exp(wx))\n",
    "    return logloss\n",
    "        \n",
    "if __name__==\"__main__\":\n",
    "    train_x=np.array([[3, 3],\n",
    "                    [4, 3],\n",
    "                    [1, 1]])\n",
    "    train_y=np.array([1, 1, 0])\n",
    "    w=LR(train_x, train_y, 0.01)\n",
    "    print(w)"
   ]
  },
  {
   "cell_type": "code",
   "execution_count": null,
   "metadata": {},
   "outputs": [],
   "source": []
  }
 ],
 "metadata": {
  "kernelspec": {
   "display_name": "Python 3",
   "language": "python",
   "name": "python3"
  },
  "language_info": {
   "codemirror_mode": {
    "name": "ipython",
    "version": 3
   },
   "file_extension": ".py",
   "mimetype": "text/x-python",
   "name": "python",
   "nbconvert_exporter": "python",
   "pygments_lexer": "ipython3",
   "version": "3.6.4"
  }
 },
 "nbformat": 4,
 "nbformat_minor": 2
}
