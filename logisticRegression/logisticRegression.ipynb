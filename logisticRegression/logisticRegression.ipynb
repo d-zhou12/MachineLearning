{
 "cells": [
  {
   "cell_type": "code",
   "execution_count": 110,
   "metadata": {},
   "outputs": [
    {
     "name": "stdout",
     "output_type": "stream",
     "text": [
      "[ 0.00020824  0.00020824 -0.00079278]\n"
     ]
    }
   ],
   "source": [
    "import numpy as np\n",
    "import math\n",
    "\n",
    "def LR(train_x, train_y, learning_rate):\n",
    "    new_train_x=np.zeros((train_x.shape[0],train_x.shape[1]+1))\n",
    "    for i in range(0,train_x.shape[0]):\n",
    "        for j in range(0,train_x.shape[1]):\n",
    "            new_train_x[i][j]=train_x[i][j]\n",
    "        new_train_x[i][-1]=1\n",
    "    w=np.ones(train_x.shape[1]+1)\n",
    "    #loss=compute_loss(new_train_x, train_y, w)\n",
    "    error=np.ones(train_x.shape[1]+1)*10\n",
    "    count=0\n",
    "    while(count<train_x.shape[0]):\n",
    "        for i in range(0, new_train_x.shape[0]):\n",
    "            wx=np.dot(w,new_train_x[i])\n",
    "            if (math.exp(wx)>=1 and train_y[i]==0) or (math.exp(wx)<1 and train_y[i]==1):\n",
    "                count=0\n",
    "                for j in range(0,w.shape[0]):\n",
    "                    w[j]+=learning_rate*train_y[i]*new_train_x[i][j]-learning_rate*new_train_x[i][j]*math.exp(wx)/(1+math.exp(wx))\n",
    "            else:\n",
    "                count+=1\n",
    "    return w\n",
    "        \n",
    "def compute_loss(train_x, train_y, w):\n",
    "    logloss=0.0\n",
    "    for i in range(0,train_x.shape[0]):\n",
    "        wx=np.dot(w,train_x[i])\n",
    "        if wx!=0:\n",
    "            logloss+=train_y[i]*wx-math.log(1+math.exp(wx))\n",
    "    return logloss\n",
    "        \n",
    "if __name__==\"__main__\":\n",
    "    train_x=np.array([[3, 3],\n",
    "                    [4, 3],\n",
    "                    [1, 1]])\n",
    "    train_y=np.array([[1], [1], [0]])\n",
    "    w=LR(train_x, train_y, 0.001)\n",
    "    print(w)"
   ]
  },
  {
   "cell_type": "code",
   "execution_count": null,
   "metadata": {},
   "outputs": [],
   "source": []
  }
 ],
 "metadata": {
  "kernelspec": {
   "display_name": "Python 3",
   "language": "python",
   "name": "python3"
  },
  "language_info": {
   "codemirror_mode": {
    "name": "ipython",
    "version": 3
   },
   "file_extension": ".py",
   "mimetype": "text/x-python",
   "name": "python",
   "nbconvert_exporter": "python",
   "pygments_lexer": "ipython3",
   "version": "3.6.4"
  }
 },
 "nbformat": 4,
 "nbformat_minor": 2
}
